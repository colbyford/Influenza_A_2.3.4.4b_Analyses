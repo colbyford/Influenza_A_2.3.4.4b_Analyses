{
 "cells": [
  {
   "cell_type": "markdown",
   "metadata": {},
   "source": [
    "# Prepare AF3-Folded Structures for OpenMM"
   ]
  },
  {
   "cell_type": "code",
   "execution_count": 1,
   "metadata": {},
   "outputs": [],
   "source": [
    "import pandas as pd\n",
    "import pymol.cmd as cmd"
   ]
  },
  {
   "cell_type": "code",
   "execution_count": 4,
   "metadata": {},
   "outputs": [],
   "source": [
    "experiments = pd.read_excel('../../Experiments.xlsx', sheet_name='Experiments')"
   ]
  },
  {
   "cell_type": "code",
   "execution_count": null,
   "metadata": {},
   "outputs": [
    {
     "name": "stdout",
     "output_type": "stream",
     "text": [
      "EPI3171488__4KDO_I\n",
      "\tMaking molecule SDF: ../../data/experiments/af3/EPI3171488__4KDO_I/epi3171488__4kdo_i/epi3171488__4kdo_i_model_mol_withH.sdf\n",
      "\tMaking protein PDB: ../../data/experiments/af3/EPI3171488__4KDO_I/epi3171488__4kdo_i/epi3171488__4kdo_i_model_protein.pdb\n",
      "EPI1846961__4KDO_I\n",
      "\tMaking molecule SDF: ../../data/experiments/af3/EPI1846961__4KDO_I/epi1846961__4kdo_i/epi1846961__4kdo_i_model_mol_withH.sdf\n",
      "\tMaking protein PDB: ../../data/experiments/af3/EPI1846961__4KDO_I/epi1846961__4kdo_i/epi1846961__4kdo_i_model_protein.pdb\n",
      "PQ809550__4KDO_I\n",
      "\tMaking molecule SDF: ../../data/experiments/af3/PQ809550__4KDO_I/pq809550__4kdo_i/pq809550__4kdo_i_model_mol_withH.sdf\n",
      "\tMaking protein PDB: ../../data/experiments/af3/PQ809550__4KDO_I/pq809550__4kdo_i/pq809550__4kdo_i_model_protein.pdb\n",
      "PQ591824__4KDO_I\n",
      "\tMaking molecule SDF: ../../data/experiments/af3/PQ591824__4KDO_I/pq591824__4kdo_i/pq591824__4kdo_i_model_mol_withH.sdf\n",
      "\tMaking protein PDB: ../../data/experiments/af3/PQ591824__4KDO_I/pq591824__4kdo_i/pq591824__4kdo_i_model_protein.pdb\n",
      "EPI3171488__4K63_I\n",
      "\tMaking molecule SDF: ../../data/experiments/af3/EPI3171488__4K63_I/epi3171488__4k63_i/epi3171488__4k63_i_model_mol_withH.sdf\n",
      "\tMaking protein PDB: ../../data/experiments/af3/EPI3171488__4K63_I/epi3171488__4k63_i/epi3171488__4k63_i_model_protein.pdb\n",
      "EPI1846961__4K63_I\n",
      "\tMaking molecule SDF: ../../data/experiments/af3/EPI1846961__4K63_I/epi1846961__4k63_i/epi1846961__4k63_i_model_mol_withH.sdf\n",
      "\tMaking protein PDB: ../../data/experiments/af3/EPI1846961__4K63_I/epi1846961__4k63_i/epi1846961__4k63_i_model_protein.pdb\n",
      "PQ809550__4K63_I\n",
      "\tMaking molecule SDF: ../../data/experiments/af3/PQ809550__4K63_I/pq809550__4k63_i/pq809550__4k63_i_model_mol_withH.sdf\n",
      "\tMaking protein PDB: ../../data/experiments/af3/PQ809550__4K63_I/pq809550__4k63_i/pq809550__4k63_i_model_protein.pdb\n",
      "PQ591824__4K63_I\n",
      "\tMaking molecule SDF: ../../data/experiments/af3/PQ591824__4K63_I/pq591824__4k63_i/pq591824__4k63_i_model_mol_withH.sdf\n",
      "\tMaking protein PDB: ../../data/experiments/af3/PQ591824__4K63_I/pq591824__4k63_i/pq591824__4k63_i_model_protein.pdb\n"
     ]
    }
   ],
   "source": [
    "for index, experiment in experiments.iterrows():\n",
    "    print(experiment['experiment_id'])\n",
    "    base_path = f\"../../data/experiments/af3/{experiment['experiment_id']}/{experiment['experiment_id'].lower()}\"\n",
    "    input_file = f\"{base_path}/{experiment['experiment_id'].lower()}_model.cif\"\n",
    "\n",
    "    output_mol_file = f\"{base_path}/{experiment['experiment_id'].lower()}_model_mol_withH.sdf\"\n",
    "    output_pdb_file = f\"{base_path}/{experiment['experiment_id'].lower()}_model_protein.pdb\"\n",
    "\n",
    "    ## Read in file\n",
    "    cmd.load(input_file)\n",
    "\n",
    "    ## Select ligand\n",
    "    print(f\"\\tMaking molecule SDF: {output_mol_file}\")\n",
    "    cmd.select('ligand', 'not polymer')\n",
    "    cmd.extract(None, 'ligand', zoom=0) ## Must extract, otherwise the H's aren't saved\n",
    "    ## Add hydrogens\n",
    "    cmd.h_add('obj01')\n",
    "    ## Write out SDF\n",
    "    cmd.save(output_mol_file, 'obj01', format='sdf')\n",
    "\n",
    "    ## Select protein\n",
    "    print(f\"\\tMaking protein PDB: {output_pdb_file}\")\n",
    "    cmd.select('protein', 'polymer')\n",
    "    ## Write out PDB\n",
    "    cmd.save(output_pdb_file, 'protein', format='pdb')\n",
    "\n",
    "    ## Reinitialize\n",
    "    cmd.reinitialize('everything')"
   ]
  },
  {
   "cell_type": "code",
   "execution_count": null,
   "metadata": {},
   "outputs": [],
   "source": []
  }
 ],
 "metadata": {
  "kernelspec": {
   "display_name": "base",
   "language": "python",
   "name": "python3"
  },
  "language_info": {
   "codemirror_mode": {
    "name": "ipython",
    "version": 3
   },
   "file_extension": ".py",
   "mimetype": "text/x-python",
   "name": "python",
   "nbconvert_exporter": "python",
   "pygments_lexer": "ipython3",
   "version": "3.10.14"
  }
 },
 "nbformat": 4,
 "nbformat_minor": 2
}
