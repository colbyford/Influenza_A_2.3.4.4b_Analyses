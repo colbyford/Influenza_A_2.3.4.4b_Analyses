{
 "cells": [
  {
   "attachments": {},
   "cell_type": "markdown",
   "metadata": {},
   "source": [
    "# Generate AlphaFold3 Experiments"
   ]
  },
  {
   "cell_type": "code",
   "execution_count": 4,
   "metadata": {},
   "outputs": [],
   "source": [
    "import pandas as pd\n",
    "import json, os"
   ]
  },
  {
   "cell_type": "code",
   "execution_count": 5,
   "metadata": {},
   "outputs": [],
   "source": [
    "proteins = pd.read_excel('../../Experiments.xlsx', sheet_name='Viral Proteins')\n",
    "glycans = pd.read_excel('../../Experiments.xlsx', sheet_name='Glycans')"
   ]
  },
  {
   "cell_type": "code",
   "execution_count": 6,
   "metadata": {},
   "outputs": [
    {
     "data": {
      "text/html": [
       "<div>\n",
       "<style scoped>\n",
       "    .dataframe tbody tr th:only-of-type {\n",
       "        vertical-align: middle;\n",
       "    }\n",
       "\n",
       "    .dataframe tbody tr th {\n",
       "        vertical-align: top;\n",
       "    }\n",
       "\n",
       "    .dataframe thead th {\n",
       "        text-align: right;\n",
       "    }\n",
       "</style>\n",
       "<table border=\"1\" class=\"dataframe\">\n",
       "  <thead>\n",
       "    <tr style=\"text-align: right;\">\n",
       "      <th></th>\n",
       "      <th>accession</th>\n",
       "      <th>location</th>\n",
       "      <th>year</th>\n",
       "      <th>aa_sequence</th>\n",
       "      <th>source_note</th>\n",
       "    </tr>\n",
       "  </thead>\n",
       "  <tbody>\n",
       "    <tr>\n",
       "      <th>0</th>\n",
       "      <td>EPI3171488</td>\n",
       "      <td>Texas</td>\n",
       "      <td>2024</td>\n",
       "      <td>MENIVLLLAIVSLVKSDQICIGYHANNSTEQVDTIMEKNVTVTHAQ...</td>\n",
       "      <td>Human in Bovine Clade</td>\n",
       "    </tr>\n",
       "    <tr>\n",
       "      <th>1</th>\n",
       "      <td>EPI1846961</td>\n",
       "      <td>Astrakhan</td>\n",
       "      <td>2020</td>\n",
       "      <td>MENIVLLLAIVSLVKSDQICIGYHANNSTEQVDTIMEKNVTVTHAQ...</td>\n",
       "      <td>Candidate Vaccine Virus</td>\n",
       "    </tr>\n",
       "    <tr>\n",
       "      <th>2</th>\n",
       "      <td>PQ809550</td>\n",
       "      <td>Louisiana</td>\n",
       "      <td>2024</td>\n",
       "      <td>MENIVLLLAIISLVKSDQICIGYHANNSTEQVDTIMEKNVTVTHAQ...</td>\n",
       "      <td>Human in Avian Clade</td>\n",
       "    </tr>\n",
       "    <tr>\n",
       "      <th>3</th>\n",
       "      <td>PQ591824</td>\n",
       "      <td>California</td>\n",
       "      <td>2024</td>\n",
       "      <td>MENIVLLLAIVSLVKSDQICIGYHANNSTEQVDTIMEKNVTVTHAQ...</td>\n",
       "      <td>Human in Bovine Clade</td>\n",
       "    </tr>\n",
       "  </tbody>\n",
       "</table>\n",
       "</div>"
      ],
      "text/plain": [
       "    accession    location  year  \\\n",
       "0  EPI3171488       Texas  2024   \n",
       "1  EPI1846961   Astrakhan  2020   \n",
       "2    PQ809550   Louisiana  2024   \n",
       "3    PQ591824  California  2024   \n",
       "\n",
       "                                         aa_sequence               source_note  \n",
       "0  MENIVLLLAIVSLVKSDQICIGYHANNSTEQVDTIMEKNVTVTHAQ...     Human in Bovine Clade  \n",
       "1  MENIVLLLAIVSLVKSDQICIGYHANNSTEQVDTIMEKNVTVTHAQ...  Candidate Vaccine Virus   \n",
       "2  MENIVLLLAIISLVKSDQICIGYHANNSTEQVDTIMEKNVTVTHAQ...      Human in Avian Clade  \n",
       "3  MENIVLLLAIVSLVKSDQICIGYHANNSTEQVDTIMEKNVTVTHAQ...     Human in Bovine Clade  "
      ]
     },
     "execution_count": 6,
     "metadata": {},
     "output_type": "execute_result"
    }
   ],
   "source": [
    "proteins"
   ]
  },
  {
   "cell_type": "code",
   "execution_count": 9,
   "metadata": {},
   "outputs": [
    {
     "data": {
      "text/html": [
       "<div>\n",
       "<style scoped>\n",
       "    .dataframe tbody tr th:only-of-type {\n",
       "        vertical-align: middle;\n",
       "    }\n",
       "\n",
       "    .dataframe tbody tr th {\n",
       "        vertical-align: top;\n",
       "    }\n",
       "\n",
       "    .dataframe thead th {\n",
       "        text-align: right;\n",
       "    }\n",
       "</style>\n",
       "<table border=\"1\" class=\"dataframe\">\n",
       "  <thead>\n",
       "    <tr style=\"text-align: right;\">\n",
       "      <th></th>\n",
       "      <th>glycan_id</th>\n",
       "      <th>pdb_id</th>\n",
       "      <th>chain</th>\n",
       "      <th>molecule_name</th>\n",
       "      <th>smiles</th>\n",
       "      <th>source</th>\n",
       "    </tr>\n",
       "  </thead>\n",
       "  <tbody>\n",
       "    <tr>\n",
       "      <th>0</th>\n",
       "      <td>4KDO_I</td>\n",
       "      <td>4KDO</td>\n",
       "      <td>I</td>\n",
       "      <td>N-acetyl-alpha-neuraminic acid-(2-6)-beta-D-ga...</td>\n",
       "      <td>CC(=O)NC1C(O)OC(CO)C(OC2OC(COC3(CC(O)C(NC(C)=O...</td>\n",
       "      <td>Human</td>\n",
       "    </tr>\n",
       "    <tr>\n",
       "      <th>1</th>\n",
       "      <td>4K63_I</td>\n",
       "      <td>4K63</td>\n",
       "      <td>I</td>\n",
       "      <td>N-acetyl-alpha-neuraminic acid-(2-3)-beta-D-ga...</td>\n",
       "      <td>CC(=O)NC1C(O)OC(CO)C(OC2OC(CO)C(O)C(OC3(CC(O)C...</td>\n",
       "      <td>Avian</td>\n",
       "    </tr>\n",
       "  </tbody>\n",
       "</table>\n",
       "</div>"
      ],
      "text/plain": [
       "  glycan_id pdb_id chain                                      molecule_name  \\\n",
       "0    4KDO_I   4KDO     I  N-acetyl-alpha-neuraminic acid-(2-6)-beta-D-ga...   \n",
       "1    4K63_I   4K63     I  N-acetyl-alpha-neuraminic acid-(2-3)-beta-D-ga...   \n",
       "\n",
       "                                              smiles source  \n",
       "0  CC(=O)NC1C(O)OC(CO)C(OC2OC(COC3(CC(O)C(NC(C)=O...  Human  \n",
       "1  CC(=O)NC1C(O)OC(CO)C(OC2OC(CO)C(O)C(OC3(CC(O)C...  Avian  "
      ]
     },
     "execution_count": 9,
     "metadata": {},
     "output_type": "execute_result"
    }
   ],
   "source": [
    "glycans"
   ]
  },
  {
   "cell_type": "code",
   "execution_count": 7,
   "metadata": {},
   "outputs": [
    {
     "data": {
      "text/plain": [
       "{'name': 'jobname',\n",
       " 'modelSeeds': [1337],\n",
       " 'sequences': [{'protein': {'id': 'A', 'sequence': ''}},\n",
       "  {'ligand': {'id': 'B', 'smiles': ['']}}],\n",
       " 'dialect': 'alphafold3',\n",
       " 'version': 1}"
      ]
     },
     "execution_count": 7,
     "metadata": {},
     "output_type": "execute_result"
    }
   ],
   "source": [
    "## Read in JSON template\n",
    "with open('alphafold_input_template.json', 'r') as file:\n",
    "    job_template = json.loads(file.read())\n",
    "\n",
    "job_template"
   ]
  },
  {
   "cell_type": "code",
   "execution_count": 13,
   "metadata": {},
   "outputs": [
    {
     "data": {
      "text/plain": [
       "'4KDO_I'"
      ]
     },
     "execution_count": 13,
     "metadata": {},
     "output_type": "execute_result"
    }
   ],
   "source": [
    "glycans['glycan_id'][0]"
   ]
  },
  {
   "cell_type": "code",
   "execution_count": 14,
   "metadata": {},
   "outputs": [
    {
     "name": "stdout",
     "output_type": "stream",
     "text": [
      "Created job for EPI3171488__4KDO_I\n",
      "Created job for EPI3171488__4K63_I\n",
      "Created job for EPI1846961__4KDO_I\n",
      "Created job for EPI1846961__4K63_I\n",
      "Created job for PQ809550__4KDO_I\n",
      "Created job for PQ809550__4K63_I\n",
      "Created job for PQ591824__4KDO_I\n",
      "Created job for PQ591824__4K63_I\n"
     ]
    }
   ],
   "source": [
    "## Loop through proteins and molecules\n",
    "for index_1, protein in proteins.iterrows():\n",
    "    for index_2, glycan in glycans.iterrows():\n",
    "        job = job_template.copy()\n",
    "        job['name'] = f\"{protein['accession']}__{glycan['glycan_id']}\"\n",
    "\n",
    "        job['sequences'] = [\n",
    "            {'protein': {'id': 'A', 'sequence': protein['aa_sequence']}},\n",
    "            {'ligand':  {'id': 'B', 'smiles': glycan['smiles']}}\n",
    "        ]\n",
    "\n",
    "        output_dir = f\"../../data/experiments/af3/{job['name']}\"\n",
    "        os.mkdir(output_dir)\n",
    "\n",
    "        with open(f\"../../data/experiments/af3/{job['name']}/alphafold_input.json\", 'w') as file:\n",
    "            file.write(json.dumps(job, indent=4))\n",
    "        print(f\"Created job for {job['name']}\")"
   ]
  },
  {
   "cell_type": "code",
   "execution_count": 15,
   "metadata": {},
   "outputs": [],
   "source": [
    "## Create CSV of job names\n",
    "job_names = [f\"{protein['accession']}__{glycan['glycan_id']}\" for index_1, protein in proteins.iterrows() for index_2, glycan in glycans.iterrows()]\n",
    "\n",
    "job_names_df = pd.DataFrame(job_names, columns=['experiment_id'])\n",
    "job_names_df.to_csv('folding_jobs.csv', index=False)"
   ]
  },
  {
   "cell_type": "code",
   "execution_count": null,
   "metadata": {},
   "outputs": [],
   "source": []
  }
 ],
 "metadata": {
  "kernelspec": {
   "display_name": "Python 3",
   "language": "python",
   "name": "python3"
  },
  "language_info": {
   "codemirror_mode": {
    "name": "ipython",
    "version": 3
   },
   "file_extension": ".py",
   "mimetype": "text/x-python",
   "name": "python",
   "nbconvert_exporter": "python",
   "pygments_lexer": "ipython3",
   "version": "3.12.4"
  }
 },
 "nbformat": 4,
 "nbformat_minor": 2
}
