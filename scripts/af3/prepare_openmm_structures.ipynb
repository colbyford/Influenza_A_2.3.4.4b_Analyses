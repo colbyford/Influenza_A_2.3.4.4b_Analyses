{
 "cells": [
  {
   "cell_type": "markdown",
   "metadata": {},
   "source": [
    "# Prepare AF3-Folded Structures for OpenMM"
   ]
  },
  {
   "cell_type": "code",
   "execution_count": 1,
   "metadata": {},
   "outputs": [
    {
     "name": "stderr",
     "output_type": "stream",
     "text": [
      "c:\\ProgramData\\PyMOL2.4.1\\lib\\site-packages\\numpy\\__init__.py:148: UserWarning: mkl-service package failed to import, therefore Intel(R) MKL initialization ensuring its correct out-of-the box operation under condition when Gnu OpenMP had already been loaded by Python process is not assured. Please install mkl-service package, see http://github.com/IntelPython/mkl-service\n",
      "  from . import _distributor_init\n"
     ]
    },
    {
     "ename": "ImportError",
     "evalue": "Unable to import required dependencies:\nnumpy: \n\nIMPORTANT: PLEASE READ THIS FOR ADVICE ON HOW TO SOLVE THIS ISSUE!\n\nImporting the numpy C-extensions failed. This error can happen for\nmany reasons, often due to issues with your setup or how NumPy was\ninstalled.\n\nWe have compiled some common reasons and troubleshooting tips at:\n\n    https://numpy.org/devdocs/user/troubleshooting-importerror.html\n\nPlease note and check the following:\n\n  * The Python version is: Python3.7 from \"c:\\ProgramData\\PyMOL2.4.1\\python.exe\"\n  * The NumPy version is: \"1.21.5\"\n\nand make sure that they are the versions you expect.\nPlease carefully study the documentation linked above for further help.\n\nOriginal error was: DLL load failed: The specified module could not be found.\n",
     "output_type": "error",
     "traceback": [
      "\u001b[1;31m---------------------------------------------------------------------------\u001b[0m",
      "\u001b[1;31mImportError\u001b[0m                               Traceback (most recent call last)",
      "\u001b[1;32m~\\AppData\\Local\\Temp\\ipykernel_41496\\1601511537.py\u001b[0m in \u001b[0;36m<module>\u001b[1;34m\u001b[0m\n\u001b[1;32m----> 1\u001b[1;33m \u001b[1;32mimport\u001b[0m \u001b[0mpandas\u001b[0m \u001b[1;32mas\u001b[0m \u001b[0mpd\u001b[0m\u001b[1;33m\u001b[0m\u001b[1;33m\u001b[0m\u001b[0m\n\u001b[0m\u001b[0;32m      2\u001b[0m \u001b[1;32mimport\u001b[0m \u001b[0mpymol\u001b[0m\u001b[1;33m.\u001b[0m\u001b[0mcmd\u001b[0m \u001b[1;32mas\u001b[0m \u001b[0mcmd\u001b[0m\u001b[1;33m\u001b[0m\u001b[1;33m\u001b[0m\u001b[0m\n",
      "\u001b[1;32mc:\\ProgramData\\PyMOL2.4.1\\lib\\site-packages\\pandas\\__init__.py\u001b[0m in \u001b[0;36m<module>\u001b[1;34m\u001b[0m\n\u001b[0;32m     15\u001b[0m \u001b[1;32mif\u001b[0m \u001b[0mmissing_dependencies\u001b[0m\u001b[1;33m:\u001b[0m\u001b[1;33m\u001b[0m\u001b[1;33m\u001b[0m\u001b[0m\n\u001b[0;32m     16\u001b[0m     raise ImportError(\n\u001b[1;32m---> 17\u001b[1;33m         \u001b[1;34m\"Unable to import required dependencies:\\n\"\u001b[0m \u001b[1;33m+\u001b[0m \u001b[1;34m\"\\n\"\u001b[0m\u001b[1;33m.\u001b[0m\u001b[0mjoin\u001b[0m\u001b[1;33m(\u001b[0m\u001b[0mmissing_dependencies\u001b[0m\u001b[1;33m)\u001b[0m\u001b[1;33m\u001b[0m\u001b[1;33m\u001b[0m\u001b[0m\n\u001b[0m\u001b[0;32m     18\u001b[0m     )\n\u001b[0;32m     19\u001b[0m \u001b[1;32mdel\u001b[0m \u001b[0mhard_dependencies\u001b[0m\u001b[1;33m,\u001b[0m \u001b[0mdependency\u001b[0m\u001b[1;33m,\u001b[0m \u001b[0mmissing_dependencies\u001b[0m\u001b[1;33m\u001b[0m\u001b[1;33m\u001b[0m\u001b[0m\n",
      "\u001b[1;31mImportError\u001b[0m: Unable to import required dependencies:\nnumpy: \n\nIMPORTANT: PLEASE READ THIS FOR ADVICE ON HOW TO SOLVE THIS ISSUE!\n\nImporting the numpy C-extensions failed. This error can happen for\nmany reasons, often due to issues with your setup or how NumPy was\ninstalled.\n\nWe have compiled some common reasons and troubleshooting tips at:\n\n    https://numpy.org/devdocs/user/troubleshooting-importerror.html\n\nPlease note and check the following:\n\n  * The Python version is: Python3.7 from \"c:\\ProgramData\\PyMOL2.4.1\\python.exe\"\n  * The NumPy version is: \"1.21.5\"\n\nand make sure that they are the versions you expect.\nPlease carefully study the documentation linked above for further help.\n\nOriginal error was: DLL load failed: The specified module could not be found.\n"
     ]
    }
   ],
   "source": [
    "import pandas as pd\n",
    "import pymol.cmd as cmd"
   ]
  },
  {
   "cell_type": "code",
   "execution_count": null,
   "metadata": {},
   "outputs": [],
   "source": [
    "experiments = pd.read_excel('../../Experiments.xlsx', sheet_name='Experiments')"
   ]
  },
  {
   "cell_type": "code",
   "execution_count": null,
   "metadata": {},
   "outputs": [
    {
     "name": "stdout",
     "output_type": "stream",
     "text": [
      "EPI3171488__4KDO_I\n",
      "\tMaking molecule SDF: ../../data/experiments/af3/EPI3171488__4KDO_I/epi3171488__4kdo_i/epi3171488__4kdo_i_model_mol_withH.sdf\n",
      "\tMaking protein PDB: ../../data/experiments/af3/EPI3171488__4KDO_I/epi3171488__4kdo_i/epi3171488__4kdo_i_model_protein.pdb\n",
      "EPI1846961__4KDO_I\n",
      "\tMaking molecule SDF: ../../data/experiments/af3/EPI1846961__4KDO_I/epi1846961__4kdo_i/epi1846961__4kdo_i_model_mol_withH.sdf\n",
      "\tMaking protein PDB: ../../data/experiments/af3/EPI1846961__4KDO_I/epi1846961__4kdo_i/epi1846961__4kdo_i_model_protein.pdb\n",
      "PQ809550__4KDO_I\n",
      "\tMaking molecule SDF: ../../data/experiments/af3/PQ809550__4KDO_I/pq809550__4kdo_i/pq809550__4kdo_i_model_mol_withH.sdf\n",
      "\tMaking protein PDB: ../../data/experiments/af3/PQ809550__4KDO_I/pq809550__4kdo_i/pq809550__4kdo_i_model_protein.pdb\n",
      "PQ591824__4KDO_I\n",
      "\tMaking molecule SDF: ../../data/experiments/af3/PQ591824__4KDO_I/pq591824__4kdo_i/pq591824__4kdo_i_model_mol_withH.sdf\n",
      "\tMaking protein PDB: ../../data/experiments/af3/PQ591824__4KDO_I/pq591824__4kdo_i/pq591824__4kdo_i_model_protein.pdb\n",
      "EPI3171488__4K63_I\n",
      "\tMaking molecule SDF: ../../data/experiments/af3/EPI3171488__4K63_I/epi3171488__4k63_i/epi3171488__4k63_i_model_mol_withH.sdf\n",
      "\tMaking protein PDB: ../../data/experiments/af3/EPI3171488__4K63_I/epi3171488__4k63_i/epi3171488__4k63_i_model_protein.pdb\n",
      "EPI1846961__4K63_I\n",
      "\tMaking molecule SDF: ../../data/experiments/af3/EPI1846961__4K63_I/epi1846961__4k63_i/epi1846961__4k63_i_model_mol_withH.sdf\n",
      "\tMaking protein PDB: ../../data/experiments/af3/EPI1846961__4K63_I/epi1846961__4k63_i/epi1846961__4k63_i_model_protein.pdb\n",
      "PQ809550__4K63_I\n",
      "\tMaking molecule SDF: ../../data/experiments/af3/PQ809550__4K63_I/pq809550__4k63_i/pq809550__4k63_i_model_mol_withH.sdf\n",
      "\tMaking protein PDB: ../../data/experiments/af3/PQ809550__4K63_I/pq809550__4k63_i/pq809550__4k63_i_model_protein.pdb\n",
      "PQ591824__4K63_I\n",
      "\tMaking molecule SDF: ../../data/experiments/af3/PQ591824__4K63_I/pq591824__4k63_i/pq591824__4k63_i_model_mol_withH.sdf\n",
      "\tMaking protein PDB: ../../data/experiments/af3/PQ591824__4K63_I/pq591824__4k63_i/pq591824__4k63_i_model_protein.pdb\n"
     ]
    }
   ],
   "source": [
    "for index, experiment in experiments.iterrows():\n",
    "    print(experiment['experiment_id'])\n",
    "    base_path = f\"../../data/experiments/af3/{experiment['experiment_id']}/{experiment['experiment_id'].lower()}\"\n",
    "    input_file = f\"{base_path}/{experiment['experiment_id'].lower()}_model.cif\"\n",
    "\n",
    "    output_mol_file = f\"{base_path}/{experiment['experiment_id'].lower()}_model_mol_withH.sdf\"\n",
    "    output_pdb_file = f\"{base_path}/{experiment['experiment_id'].lower()}_model_protein.pdb\"\n",
    "    output_complex_file = f\"{base_path}/{experiment['experiment_id'].lower()}_model_complex_molwithH.pdb\"\n",
    "\n",
    "    ## Read in file\n",
    "    cmd.load(input_file)\n",
    "\n",
    "    ## Select ligand\n",
    "    print(f\"\\tMaking molecule SDF: {output_mol_file}\")\n",
    "    cmd.select('ligand', 'not polymer')\n",
    "    cmd.extract(None, 'ligand', zoom=0) ## Must extract, otherwise the H's aren't saved\n",
    "    ## Add hydrogens\n",
    "    cmd.h_add('obj01')\n",
    "    ## Write out SDF\n",
    "    cmd.save(output_mol_file, 'obj01', format='sdf')\n",
    "\n",
    "    ## Select protein\n",
    "    print(f\"\\tMaking protein PDB: {output_pdb_file}\")\n",
    "    cmd.select('protein', 'polymer')\n",
    "    ## Write out PDB\n",
    "    cmd.save(output_pdb_file, 'protein', format='pdb')\n",
    "\n",
    "    ## Save complex PDB\n",
    "    print(f\"\\tMaking complex PDB: {output_complex_file}\")\n",
    "    cmd.save(output_complex_file, format='pdb')\n",
    "\n",
    "    ## Reinitialize\n",
    "    cmd.reinitialize('everything')"
   ]
  },
  {
   "cell_type": "code",
   "execution_count": null,
   "metadata": {},
   "outputs": [],
   "source": []
  }
 ],
 "metadata": {
  "kernelspec": {
   "display_name": "base",
   "language": "python",
   "name": "python3"
  },
  "language_info": {
   "codemirror_mode": {
    "name": "ipython",
    "version": 3
   },
   "file_extension": ".py",
   "mimetype": "text/x-python",
   "name": "python",
   "nbconvert_exporter": "python",
   "pygments_lexer": "ipython3",
   "version": "3.7.13"
  }
 },
 "nbformat": 4,
 "nbformat_minor": 2
}
